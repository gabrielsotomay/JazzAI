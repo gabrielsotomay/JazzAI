{
 "cells": [
  {
   "cell_type": "markdown",
   "id": "0d899a87-c33b-404a-96cb-ab9594bfbe64",
   "metadata": {},
   "source": [
    "# Jazz Datasets\n",
    "This program is an investigation into the [Weimar jazz database](https://jazzomat.hfm-weimar.de/dbformat/dboverview.html) and the [JazzSet](https://old.reddit.com/r/datasets/comments/1b73vz3/jazzset_large_audio_dataset_with_instrumentation/) to see if a large data set of transcribed solo playing can be found. \n",
    "\n",
    "The Weimar Jazz Database contains 456 transcribed jazz solos. The database is encoded using a library called [MeloSpyLib](https://jazzomat.hfm-weimar.de/melospy/melospy.html), where melodies as stored as \"Melodical objects\". The fundamental objects are `Rhythms`, which are sequences of `RhythmEvents`. Rhythm events are defined as triplets (`onset, duration, value`), where onset and duration are measured in seconds, and values can be any object. \n",
    "\n",
    "The JazzSet contains 40,329 recordings with over 2200 hours of audio. "
   ]
  },
  {
   "cell_type": "markdown",
   "id": "308cdb8d-9d6e-4fc2-a0bd-45f395300349",
   "metadata": {},
   "source": [
    "## Loading the Weimar Jazz Database\n",
    "The database is encoded in sqlite in a .db file. Loading this database is simple using the sqlite3 library. This will allow us to run SQL queries later. "
   ]
  },
  {
   "cell_type": "code",
   "execution_count": 1,
   "id": "6d52f2e7-c40e-45ad-af8d-afe7ace52cc1",
   "metadata": {},
   "outputs": [],
   "source": [
    "import sqlite3\n",
    "con = sqlite3.connect(\"file:wjazzd.db?mode=rw\")\n",
    "cur = con.cursor()"
   ]
  },
  {
   "cell_type": "markdown",
   "id": "ec144584-5a02-486c-9dcf-e9e4cb7a5aaa",
   "metadata": {},
   "source": [
    "## Loading the JazzSet Database\n",
    "This database contains a .pkl file containing information for all tracks in cards, with one card for each track. We access this data using provided functions imported from JazzSetDS.py. We also make some tables in SQL from the data for ease of manipulation and comparison to the Weimar Jazz Database. "
   ]
  },
  {
   "cell_type": "code",
   "execution_count": 2,
   "id": "6f8a2988-5e67-4675-bfdd-5a396cb211a6",
   "metadata": {},
   "outputs": [],
   "source": [
    "from JazzSetDS import *\n",
    "cards = Load(\"JazzSet.0.9.pkl\",pad=False)\n",
    "\n",
    "cur.execute(\"DROP TABLE IF EXISTS card_performers\")\n",
    "cur.execute(\"DROP TABLE IF EXISTS card_performances\")\n",
    "cur.execute(\"DROP TABLE IF EXISTS card_tracks\")\n",
    "cur.execute(\"CREATE TABLE card_performers(id, name)\")\n",
    "cur.execute(\"CREATE TABLE card_tracks(id, title, year)\")\n",
    "cur.execute(\"CREATE TABLE card_performances(track_id, performer_id)\")\n",
    "performers = []\n",
    "\n",
    "for card in cards:\n",
    "    if card:\n",
    "        cur.execute(\"INSERT INTO card_tracks VALUES(:id, :title, :year)\",\n",
    "                    {'id': card['#'], 'title': card['TITLE'], 'year': card['DATE']['YEAR']})\n",
    "        for performer in list(card['PERSONNEL']['PEOPLE'].keys()):\n",
    "            if performer not in performers:\n",
    "                performers.append(performer)\n",
    "                cur.execute(\"INSERT INTO card_performers VALUES(:id, :name)\", {'id': len(performers), 'name': performer})\n",
    "            \n",
    "            cur.execute(\"INSERT INTO card_performances VALUES(:track_id, :performer_id)\",\n",
    "                        {'track_id': card['#'], 'performer_id': performers.index(performer)})"
   ]
  },
  {
   "cell_type": "markdown",
   "id": "93120bc0-7c6a-4abe-8781-7bc7dc3f809e",
   "metadata": {},
   "source": [
    "## Comparing the time-ranges of the databases\n",
    "Having loaded both databases, we can look at a few different aspects of the data. First, we look at when the solos were performed. "
   ]
  },
  {
   "cell_type": "code",
   "execution_count": 3,
   "id": "511fc32f-dcff-4f1b-a722-e4262e27c1a7",
   "metadata": {},
   "outputs": [
    {
     "data": {
      "image/png": "[encoded data removed]",
      "text/plain": [
       "<Figure size 640x480 with 2 Axes>"
      ]
     },
     "metadata": {},
     "output_type": "display_data"
    }
   ],
   "source": [
    "# Extracting the year from the inconsistently written date information in the Weimar jazz database\n",
    "import re\n",
    "res = cur.execute(\"SELECT trackid,  recordingdate\\\n",
    "        FROM track_info\")\n",
    "allTracks = res.fetchall()\n",
    "trackData = []\n",
    "years = []\n",
    "for track in allTracks:\n",
    "    year = re.findall(r\"\\b\\d{4}\\b\", track[1])[0]    \n",
    "    years.append(int(year))\n",
    "    trackData.append({\"trackid\": track[0], \"year\": int(year)})\n",
    "\n",
    "cur.execute(\"DROP TABLE IF EXISTS track_years\")\n",
    "cur.execute(\"CREATE TABLE track_years(trackid,year)\")\n",
    "cur.executemany(\"INSERT INTO track_years VALUES(:trackid, :year)\", trackData)\n",
    "cur.execute(\"DROP TABLE  IF EXISTS track_info_dated\")\n",
    "cur.execute(\"CREATE TABLE track_info_dated AS SELECT track_info.*, track_years.year\\\n",
    "             FROM track_info  \\\n",
    "             LEFT JOIN track_years  \\\n",
    "                 ON track_info.trackid = track_years.trackid\")\n",
    "\n",
    "# Querying the WJD for the number of solos per year\n",
    "res = cur.execute(\"SELECT tid.year, COUNT(*) AS num_solos\\\n",
    "                   FROM solo_info AS si\\\n",
    "                   LEFT JOIN track_info_dated AS tid \\\n",
    "                   ON tid.trackid = si.trackid \\\n",
    "                   GROUP BY tid.year \\\n",
    "                   ORDER BY tid.year ASC\")\n",
    "year_data_wjd = res.fetchall()\n",
    "\n",
    "# Querying the JazzSet for the number of solos per year\n",
    "res = cur.execute(\"SELECT year, COUNT(*) AS num_solos\\\n",
    "                   FROM card_tracks\\\n",
    "                   GROUP BY year \\\n",
    "                   ORDER BY year ASC\")\n",
    "year_data_js = res.fetchall()\n",
    "\n",
    "# Formatting the data for plotting\n",
    "import matplotlib.pyplot as plt\n",
    "y_labels_wjd = []\n",
    "entries_wjd = []\n",
    "for year_data in year_data_wjd:\n",
    "    y_labels_wjd.append(year_data[0])\n",
    "    entries_wjd.append(year_data[1])\n",
    "y_labels_js = []\n",
    "entries_js = []\n",
    "for year_data in year_data_js:    \n",
    "    y_labels_js.append(year_data[0])\n",
    "    entries_js.append(year_data[1])\n",
    "\n",
    "# plotting the data\n",
    "fig, ax1 = plt.subplots()\n",
    "\n",
    "# plotting WJD data\n",
    "ax1.bar(y_labels_wjd,entries_wjd, color='blue',alpha=0.5, label='Data 1')\n",
    "ax1.set_ylabel('Number of transcribed solos (WJD)', color='blue')\n",
    "ax1.tick_params(axis='y', labelcolor='blue')\n",
    "\n",
    "# plotting JS data\n",
    "ax2 = ax1.twinx()\n",
    "ax2.bar(y_labels_js, entries_js, color='green', alpha=0.5, label='Data 2')\n",
    "ax2.set_ylabel('Number of tracks (JS)', color='green')\n",
    "ax2.tick_params(axis='y', labelcolor='green')"
   ]
  },
  {
   "cell_type": "markdown",
   "id": "c31e0644-5018-454f-bbf7-0cc988c064f8",
   "metadata": {},
   "source": [
    "We see that there is some overlap between the solos, let's see if there are any performances in common. "
   ]
  },
  {
   "cell_type": "markdown",
   "id": "10362462-1600-4cb8-8a1a-6df0ccf7560b",
   "metadata": {},
   "source": [
    "# Finding common tracks \n",
    "Finding tracks that appear in both databases becomes reasonably easy now that appropriate tables are set up. We look for tracks that have same title, the same performer, and were performed in roughly the same year. "
   ]
  },
  {
   "cell_type": "code",
   "execution_count": 6,
   "id": "21afdd6e-699b-4d23-8030-867e901d19de",
   "metadata": {},
   "outputs": [
    {
     "name": "stdout",
     "output_type": "stream",
     "text": [
      "There are 16 solos from the WJD included in the JS dataset\n",
      "[('Whispering', 'Benny Goodman', 1936), ('Body And Soul', 'Chu Berry', 1938), ('Body And Soul', 'Chu Berry', 1938), ('Got No Blues', 'Johnny Dodds', 1927), ('Heebie Jeebies', 'Johnny Dodds', 1926), ('Hotter Than That', 'Johnny Dodds', 1927), ('Muskrat Ramble', 'Johnny Dodds', 1926), ('My Heart', 'Johnny Dodds', 1925), ('Once In A While', 'Johnny Dodds', 1927), (\"Dickie's Dream\", 'Lester Young', 1939), ('Lester Leaps In', 'Lester Young', 1939), ('Six Cats And A Prince', 'Lester Young', 1944), (\"Don't Get Around Much Anymore\", 'Milt Jackson', 1952), ('Work Song', 'Nat Adderley', 1960), ('Work Song', 'Nat Adderley', 1960), ('Body And Soul', 'Sonny Stitt', 1948)]\n"
     ]
    }
   ],
   "source": [
    "res = cur.execute(\"SELECT ct.title, si.performer,  tid.year\\\n",
    "                        FROM solo_info si\\\n",
    "                        LEFT JOIN track_info_dated tid \\\n",
    "                            ON si.trackid = tid.trackid \\\n",
    "                        LEFT JOIN composition_info ci \\\n",
    "                            ON si.compid = ci.compid \\\n",
    "                        LEFT JOIN card_tracks as ct \\\n",
    "                            ON LOWER(ct.title) = LOWER(si.title) \\\n",
    "                                OR LOWER(ct.title) = LOWER(ci.title) \\\n",
    "                        LEFT JOIN card_performances as cp\\\n",
    "                            ON cp.track_id = ct.id\\\n",
    "                        LEFT JOIN card_performers as p\\\n",
    "                            ON p.id = cp.performer_id\\\n",
    "                        WHERE LOWER(si.performer) = LOWER(p.name) \\\n",
    "                        AND  ABS(ct.year-tid.year) < 3\")\n",
    "results = res.fetchall()\n",
    "print(\"There are \" + str(len(results)) + \" solos from the WJD included in the JS dataset\")\n",
    "print(results[:][:])"
   ]
  },
  {
   "cell_type": "markdown",
   "id": "085c043f-8c35-4095-8e6c-9ef90dc02b41",
   "metadata": {},
   "source": [
    "Therefore we find that there are only very few tracks in common, and so this is not a particularly useful collection of datasets for us to use. "
   ]
  },
  {
   "cell_type": "code",
   "execution_count": null,
   "id": "8784ae30-200b-410d-892d-70246b9fab45",
   "metadata": {},
   "outputs": [],
   "source": []
  }
 ],
 "metadata": {
  "kernelspec": {
   "display_name": "Python 3 (ipykernel)",
   "language": "python",
   "name": "python3"
  },
  "language_info": {
   "codemirror_mode": {
    "name": "ipython",
    "version": 3
   },
   "file_extension": ".py",
   "mimetype": "text/x-python",
   "name": "python",
   "nbconvert_exporter": "python",
   "pygments_lexer": "ipython3",
   "version": "3.11.10"
  }
 },
 "nbformat": 4,
 "nbformat_minor": 5
}
